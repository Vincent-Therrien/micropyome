{
 "cells": [
  {
   "cell_type": "code",
   "execution_count": 1,
   "metadata": {},
   "outputs": [],
   "source": [
    "import numpy as np\n",
    "import pandas as pd\n",
    "import matplotlib.pyplot as plt\n",
    "from sklearn.preprocessing import StandardScaler\n",
    "from sklearn.tree import DecisionTreeRegressor\n",
    "from sklearn.linear_model import LinearRegression\n",
    "from sklearn.ensemble import RandomForestRegressor, GradientBoostingRegressor\n",
    "from sklearn.multioutput import MultiOutputRegressor\n",
    "from sklearn.kernel_ridge import KernelRidge\n",
    "from sklearn.neighbors import KNeighborsRegressor\n",
    "\n",
    "from micropyome.taxa import regression\n",
    "from micropyome.datasets import normalize"
   ]
  },
  {
   "cell_type": "code",
   "execution_count": 2,
   "metadata": {},
   "outputs": [],
   "source": [
    "DATASET_PATH = \"data/averill_processed/bacteria/\""
   ]
  },
  {
   "cell_type": "code",
   "execution_count": 5,
   "metadata": {},
   "outputs": [],
   "source": [
    "X = {}\n",
    "Y = {}\n",
    "for level in regression.TAXONOMIC_LEVELS:\n",
    "    x = pd.read_csv(f\"{DATASET_PATH}{level}/15_variables.csv\")\n",
    "    if level == 'fg':\n",
    "        y = pd.read_csv(f\"{DATASET_PATH}{level}/observed.csv\")\n",
    "    else:\n",
    "        y = pd.read_csv(f\"{DATASET_PATH}{level}/y_11groupTaxo.csv\")\n",
    "\n",
    "    x = x.drop(x.columns[0], axis=1)\n",
    "    x = normalize(x)\n",
    "    y = y.drop(y.columns[0], axis=1)\n",
    "\n",
    "    X[level] = x\n",
    "    Y[level] = y"
   ]
  },
  {
   "cell_type": "code",
   "execution_count": 28,
   "metadata": {},
   "outputs": [],
   "source": [
    "class LogitRegression(LinearRegression):\n",
    "\n",
    "    def fit(self, x, p):\n",
    "        p = np.asarray(p)\n",
    "        y = np.log(p / (1 - p))\n",
    "        y = np.nan_to_num(y, nan=0)\n",
    "        return super().fit(x, y)\n",
    "\n",
    "    def predict(self, x):\n",
    "        y = super().predict(x)\n",
    "        return 1 / (np.exp(-y) + 1)"
   ]
  },
  {
   "cell_type": "code",
   "execution_count": 29,
   "metadata": {},
   "outputs": [],
   "source": [
    "models = {\n",
    "    \"k-NN\": KNeighborsRegressor(20),\n",
    "    \"Logit\": LogitRegression(),\n",
    "    \"Linear Regression\": LinearRegression(),\n",
    "}"
   ]
  },
  {
   "cell_type": "code",
   "execution_count": 30,
   "metadata": {},
   "outputs": [
    {
     "name": "stdout",
     "output_type": "stream",
     "text": [
      "2024-06-07T17:29:50.655148 > INFO Evaluating 3 models with 5 splits.\n",
      "2024-06-07T17:29:50.656532 > INFO Level: fg\n",
      "2024-06-07T17:29:50.664019 > INFO K-fold split: 0\n",
      "2024-06-07T17:29:50.683362 > INFO Beginning the evaluation of 3 models.\n",
      "2024-06-07T17:29:50.777677 > INFO K-fold split: 1\n",
      "2024-06-07T17:29:50.783186 > INFO Beginning the evaluation of 3 models.\n",
      "2024-06-07T17:29:50.884732 > INFO K-fold split: 2\n",
      "2024-06-07T17:29:50.891279 > INFO Beginning the evaluation of 3 models.\n",
      "2024-06-07T17:29:51.029326 > INFO K-fold split: 3\n",
      "2024-06-07T17:29:51.033359 > INFO Beginning the evaluation of 3 models.\n",
      "2024-06-07T17:29:51.128366 > INFO K-fold split: 4\n",
      "2024-06-07T17:29:51.132648 > INFO Beginning the evaluation of 3 models.\n",
      "2024-06-07T17:29:51.264155 > INFO Level: phylum\n",
      "2024-06-07T17:29:51.268560 > INFO K-fold split: 0\n",
      "2024-06-07T17:29:51.275259 > INFO Beginning the evaluation of 3 models.\n",
      "2024-06-07T17:29:51.363438 > INFO K-fold split: 1\n",
      "2024-06-07T17:29:51.364766 > INFO Beginning the evaluation of 3 models.\n",
      "2024-06-07T17:29:51.443331 > INFO K-fold split: 2\n",
      "2024-06-07T17:29:51.451629 > INFO Beginning the evaluation of 3 models.\n",
      "2024-06-07T17:29:51.615352 > INFO K-fold split: 3\n",
      "2024-06-07T17:29:51.623901 > INFO Beginning the evaluation of 3 models.\n",
      "2024-06-07T17:29:51.695037 > INFO K-fold split: 4\n",
      "2024-06-07T17:29:51.699386 > INFO Beginning the evaluation of 3 models.\n",
      "2024-06-07T17:29:51.800914 > INFO Level: class\n",
      "2024-06-07T17:29:51.800914 > INFO K-fold split: 0\n",
      "2024-06-07T17:29:51.806465 > INFO Beginning the evaluation of 3 models.\n"
     ]
    },
    {
     "name": "stderr",
     "output_type": "stream",
     "text": [
      "C:\\Users\\vince\\AppData\\Local\\Temp\\ipykernel_22988\\1590540893.py:5: RuntimeWarning: invalid value encountered in log\n",
      "  y = np.log(p / (1 - p))\n"
     ]
    },
    {
     "name": "stdout",
     "output_type": "stream",
     "text": [
      "2024-06-07T17:29:51.922992 > INFO K-fold split: 1\n",
      "2024-06-07T17:29:51.924849 > INFO Beginning the evaluation of 3 models.\n"
     ]
    },
    {
     "name": "stderr",
     "output_type": "stream",
     "text": [
      "C:\\Users\\vince\\AppData\\Local\\Temp\\ipykernel_22988\\1590540893.py:5: RuntimeWarning: invalid value encountered in log\n",
      "  y = np.log(p / (1 - p))\n"
     ]
    },
    {
     "name": "stdout",
     "output_type": "stream",
     "text": [
      "2024-06-07T17:29:52.000894 > INFO K-fold split: 2\n",
      "2024-06-07T17:29:52.004502 > INFO Beginning the evaluation of 3 models.\n"
     ]
    },
    {
     "name": "stderr",
     "output_type": "stream",
     "text": [
      "C:\\Users\\vince\\AppData\\Local\\Temp\\ipykernel_22988\\1590540893.py:5: RuntimeWarning: invalid value encountered in log\n",
      "  y = np.log(p / (1 - p))\n"
     ]
    },
    {
     "name": "stdout",
     "output_type": "stream",
     "text": [
      "2024-06-07T17:29:52.104965 > INFO K-fold split: 3\n",
      "2024-06-07T17:29:52.114057 > INFO Beginning the evaluation of 3 models.\n"
     ]
    },
    {
     "name": "stderr",
     "output_type": "stream",
     "text": [
      "C:\\Users\\vince\\AppData\\Local\\Temp\\ipykernel_22988\\1590540893.py:5: RuntimeWarning: invalid value encountered in log\n",
      "  y = np.log(p / (1 - p))\n"
     ]
    },
    {
     "name": "stdout",
     "output_type": "stream",
     "text": [
      "2024-06-07T17:29:52.205046 > INFO K-fold split: 4\n",
      "2024-06-07T17:29:52.213064 > INFO Beginning the evaluation of 3 models.\n"
     ]
    },
    {
     "name": "stderr",
     "output_type": "stream",
     "text": [
      "C:\\Users\\vince\\AppData\\Local\\Temp\\ipykernel_22988\\1590540893.py:5: RuntimeWarning: invalid value encountered in log\n",
      "  y = np.log(p / (1 - p))\n"
     ]
    },
    {
     "name": "stdout",
     "output_type": "stream",
     "text": [
      "2024-06-07T17:29:52.363017 > INFO Level: order\n",
      "2024-06-07T17:29:52.366115 > INFO K-fold split: 0\n",
      "2024-06-07T17:29:52.369698 > INFO Beginning the evaluation of 3 models.\n",
      "2024-06-07T17:29:52.464656 > INFO K-fold split: 1\n",
      "2024-06-07T17:29:52.469316 > INFO Beginning the evaluation of 3 models.\n",
      "2024-06-07T17:29:52.536834 > INFO K-fold split: 2\n",
      "2024-06-07T17:29:52.543927 > INFO Beginning the evaluation of 3 models.\n",
      "2024-06-07T17:29:52.625712 > INFO K-fold split: 3\n",
      "2024-06-07T17:29:52.633258 > INFO Beginning the evaluation of 3 models.\n",
      "2024-06-07T17:29:52.698719 > INFO K-fold split: 4\n",
      "2024-06-07T17:29:52.703139 > INFO Beginning the evaluation of 3 models.\n",
      "2024-06-07T17:29:52.735398 > INFO Level: family\n",
      "2024-06-07T17:29:52.737294 > INFO K-fold split: 0\n",
      "2024-06-07T17:29:52.741988 > INFO Beginning the evaluation of 3 models.\n",
      "2024-06-07T17:29:52.793986 > INFO K-fold split: 1\n",
      "2024-06-07T17:29:52.801338 > INFO Beginning the evaluation of 3 models.\n",
      "2024-06-07T17:29:52.848331 > INFO K-fold split: 2\n",
      "2024-06-07T17:29:52.848331 > INFO Beginning the evaluation of 3 models.\n",
      "2024-06-07T17:29:52.964271 > INFO K-fold split: 3\n",
      "2024-06-07T17:29:52.966578 > INFO Beginning the evaluation of 3 models.\n",
      "2024-06-07T17:29:53.011162 > INFO K-fold split: 4\n",
      "2024-06-07T17:29:53.014404 > INFO Beginning the evaluation of 3 models.\n",
      "2024-06-07T17:29:53.064678 > INFO Level: genus\n",
      "2024-06-07T17:29:53.070942 > INFO K-fold split: 0\n",
      "2024-06-07T17:29:53.075761 > INFO Beginning the evaluation of 3 models.\n",
      "2024-06-07T17:29:53.214997 > INFO K-fold split: 1\n",
      "2024-06-07T17:29:53.218750 > INFO Beginning the evaluation of 3 models.\n",
      "2024-06-07T17:29:53.368276 > INFO K-fold split: 2\n",
      "2024-06-07T17:29:53.373301 > INFO Beginning the evaluation of 3 models.\n",
      "2024-06-07T17:29:53.423931 > INFO K-fold split: 3\n",
      "2024-06-07T17:29:53.427785 > INFO Beginning the evaluation of 3 models.\n",
      "2024-06-07T17:29:53.524083 > INFO K-fold split: 4\n",
      "2024-06-07T17:29:53.532016 > INFO Beginning the evaluation of 3 models.\n"
     ]
    }
   ],
   "source": [
    "results = regression.train_evaluate_models_multiple_taxa(models, X, Y, threshold=0.006, k_fold=5)"
   ]
  },
  {
   "cell_type": "code",
   "execution_count": 31,
   "metadata": {},
   "outputs": [
    {
     "data": {
      "image/png": "[encoded data removed]",
      "text/plain": [
       "<Figure size 640x480 with 1 Axes>"
      ]
     },
     "metadata": {},
     "output_type": "display_data"
    }
   ],
   "source": [
    "x = list(range(len(regression.TAXONOMIC_LEVELS)))\n",
    "\n",
    "for model in models:\n",
    "    y = [results[level][model] for level in regression.TAXONOMIC_LEVELS]\n",
    "    plt.plot(x, y, \"-o\", label=model)\n",
    "\n",
    "averill_results = pd.read_csv(f\"{DATASET_PATH}/r2_published_results.csv\")\n",
    "published_results = averill_results.iloc[0].to_list()[1:]\n",
    "plt.plot(x, published_results, \"-o\", label=\"Averill et al.\")\n",
    "plt.xticks(x, regression.TAXONOMIC_LEVELS)\n",
    "plt.legend()\n",
    "plt.show()"
   ]
  },
  {
   "cell_type": "code",
   "execution_count": 34,
   "metadata": {},
   "outputs": [
    {
     "name": "stdout",
     "output_type": "stream",
     "text": [
      "0.24080773679564343\n",
      "0.35139456767900157\n",
      "0.2639362964397623\n",
      "0.32053744989166433\n",
      "0.2894566815787616\n",
      "0.19315538017743064\n"
     ]
    }
   ],
   "source": [
    "for r in results:\n",
    "    print(results[r][\"Linear Regression\"])"
   ]
  }
 ],
 "metadata": {
  "kernelspec": {
   "display_name": "venv",
   "language": "python",
   "name": "python3"
  },
  "language_info": {
   "codemirror_mode": {
    "name": "ipython",
    "version": 3
   },
   "file_extension": ".py",
   "mimetype": "text/x-python",
   "name": "python",
   "nbconvert_exporter": "python",
   "pygments_lexer": "ipython3",
   "version": "3.11.2"
  }
 },
 "nbformat": 4,
 "nbformat_minor": 2
}
